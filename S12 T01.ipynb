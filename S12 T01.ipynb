{
 "cells": [
  {
   "cell_type": "markdown",
   "id": "264a2ba7",
   "metadata": {},
   "source": [
    "## S12 T01: Pipelines, grid search i text mining"
   ]
  },
  {
   "cell_type": "code",
   "execution_count": 1,
   "id": "9e4d4831",
   "metadata": {},
   "outputs": [],
   "source": [
    "import numpy as np\n",
    "import seaborn as sns\n",
    "import pandas as pd\n",
    "import matplotlib.pyplot as plt\n",
    "import warnings\n",
    "warnings.filterwarnings('ignore')"
   ]
  },
  {
   "cell_type": "markdown",
   "id": "1be2702a",
   "metadata": {},
   "source": [
    "### Exercici 1\n",
    "\n",
    "Agafa el conjunt de dades que vulguis i realitza un pipeline i un gridsearch aplicant l'algorisme de Random Forest."
   ]
  },
  {
   "cell_type": "markdown",
   "id": "4344d25a",
   "metadata": {},
   "source": [
    "*I will use a dataset about NYC Student demographic and enrollment data by district in 2019-20.*"
   ]
  },
  {
   "cell_type": "code",
   "execution_count": 90,
   "id": "7cd8bbe4",
   "metadata": {},
   "outputs": [],
   "source": [
    "df = pd.read_csv('/Users/Diana/Downloads/2019-20_Demograhic_Snapshot_-_District.csv')"
   ]
  },
  {
   "cell_type": "code",
   "execution_count": 91,
   "id": "d4839b0a",
   "metadata": {},
   "outputs": [
    {
     "data": {
      "text/html": [
       "<div>\n",
       "<style scoped>\n",
       "    .dataframe tbody tr th:only-of-type {\n",
       "        vertical-align: middle;\n",
       "    }\n",
       "\n",
       "    .dataframe tbody tr th {\n",
       "        vertical-align: top;\n",
       "    }\n",
       "\n",
       "    .dataframe thead th {\n",
       "        text-align: right;\n",
       "    }\n",
       "</style>\n",
       "<table border=\"1\" class=\"dataframe\">\n",
       "  <thead>\n",
       "    <tr style=\"text-align: right;\">\n",
       "      <th></th>\n",
       "      <th>Administrative District</th>\n",
       "      <th>Year</th>\n",
       "      <th>Total Enrollment</th>\n",
       "      <th>Grade 3K+PK (Half Day &amp; Full Day)</th>\n",
       "      <th>Grade K</th>\n",
       "      <th>Grade 1</th>\n",
       "      <th>Grade 2</th>\n",
       "      <th>Grade 3</th>\n",
       "      <th>Grade 4</th>\n",
       "      <th>Grade 5</th>\n",
       "      <th>...</th>\n",
       "      <th>% Multiple Race Categories Not Represented</th>\n",
       "      <th># White</th>\n",
       "      <th>% White</th>\n",
       "      <th># Students with Disabilities</th>\n",
       "      <th>% Students with Disabilities</th>\n",
       "      <th># English Language Learners</th>\n",
       "      <th>% English Language Learners</th>\n",
       "      <th># Poverty</th>\n",
       "      <th>% Poverty</th>\n",
       "      <th>Economic Need Index</th>\n",
       "    </tr>\n",
       "  </thead>\n",
       "  <tbody>\n",
       "    <tr>\n",
       "      <th>0</th>\n",
       "      <td>1</td>\n",
       "      <td>2015-16</td>\n",
       "      <td>12009</td>\n",
       "      <td>842</td>\n",
       "      <td>905</td>\n",
       "      <td>912</td>\n",
       "      <td>899</td>\n",
       "      <td>858</td>\n",
       "      <td>849</td>\n",
       "      <td>904</td>\n",
       "      <td>...</td>\n",
       "      <td>0.027</td>\n",
       "      <td>2065</td>\n",
       "      <td>0.172</td>\n",
       "      <td>2577</td>\n",
       "      <td>0.215</td>\n",
       "      <td>1092</td>\n",
       "      <td>0.091</td>\n",
       "      <td>7556</td>\n",
       "      <td>0.629</td>\n",
       "      <td>0.606</td>\n",
       "    </tr>\n",
       "    <tr>\n",
       "      <th>1</th>\n",
       "      <td>1</td>\n",
       "      <td>2016-17</td>\n",
       "      <td>11772</td>\n",
       "      <td>827</td>\n",
       "      <td>850</td>\n",
       "      <td>907</td>\n",
       "      <td>889</td>\n",
       "      <td>859</td>\n",
       "      <td>834</td>\n",
       "      <td>808</td>\n",
       "      <td>...</td>\n",
       "      <td>0.031</td>\n",
       "      <td>2059</td>\n",
       "      <td>0.175</td>\n",
       "      <td>2555</td>\n",
       "      <td>0.217</td>\n",
       "      <td>1065</td>\n",
       "      <td>0.090</td>\n",
       "      <td>7265</td>\n",
       "      <td>0.617</td>\n",
       "      <td>0.597</td>\n",
       "    </tr>\n",
       "    <tr>\n",
       "      <th>2</th>\n",
       "      <td>1</td>\n",
       "      <td>2017-18</td>\n",
       "      <td>11632</td>\n",
       "      <td>800</td>\n",
       "      <td>851</td>\n",
       "      <td>846</td>\n",
       "      <td>854</td>\n",
       "      <td>862</td>\n",
       "      <td>839</td>\n",
       "      <td>813</td>\n",
       "      <td>...</td>\n",
       "      <td>0.035</td>\n",
       "      <td>2022</td>\n",
       "      <td>0.174</td>\n",
       "      <td>2528</td>\n",
       "      <td>0.217</td>\n",
       "      <td>1016</td>\n",
       "      <td>0.087</td>\n",
       "      <td>7682</td>\n",
       "      <td>0.660</td>\n",
       "      <td>0.670</td>\n",
       "    </tr>\n",
       "    <tr>\n",
       "      <th>3</th>\n",
       "      <td>1</td>\n",
       "      <td>2018-19</td>\n",
       "      <td>11376</td>\n",
       "      <td>759</td>\n",
       "      <td>799</td>\n",
       "      <td>850</td>\n",
       "      <td>816</td>\n",
       "      <td>838</td>\n",
       "      <td>839</td>\n",
       "      <td>832</td>\n",
       "      <td>...</td>\n",
       "      <td>0.038</td>\n",
       "      <td>2045</td>\n",
       "      <td>0.180</td>\n",
       "      <td>2597</td>\n",
       "      <td>0.228</td>\n",
       "      <td>966</td>\n",
       "      <td>0.085</td>\n",
       "      <td>7314</td>\n",
       "      <td>0.643</td>\n",
       "      <td>0.661</td>\n",
       "    </tr>\n",
       "    <tr>\n",
       "      <th>4</th>\n",
       "      <td>1</td>\n",
       "      <td>2019-20</td>\n",
       "      <td>11506</td>\n",
       "      <td>960</td>\n",
       "      <td>812</td>\n",
       "      <td>782</td>\n",
       "      <td>848</td>\n",
       "      <td>813</td>\n",
       "      <td>818</td>\n",
       "      <td>831</td>\n",
       "      <td>...</td>\n",
       "      <td>0.050</td>\n",
       "      <td>2056</td>\n",
       "      <td>0.179</td>\n",
       "      <td>2550</td>\n",
       "      <td>0.222</td>\n",
       "      <td>918</td>\n",
       "      <td>0.080</td>\n",
       "      <td>7291</td>\n",
       "      <td>0.634</td>\n",
       "      <td>0.671</td>\n",
       "    </tr>\n",
       "  </tbody>\n",
       "</table>\n",
       "<p>5 rows × 38 columns</p>\n",
       "</div>"
      ],
      "text/plain": [
       "   Administrative District     Year  Total Enrollment  \\\n",
       "0                        1  2015-16             12009   \n",
       "1                        1  2016-17             11772   \n",
       "2                        1  2017-18             11632   \n",
       "3                        1  2018-19             11376   \n",
       "4                        1  2019-20             11506   \n",
       "\n",
       "   Grade 3K+PK (Half Day & Full Day)  Grade K  Grade 1  Grade 2  Grade 3  \\\n",
       "0                                842      905      912      899      858   \n",
       "1                                827      850      907      889      859   \n",
       "2                                800      851      846      854      862   \n",
       "3                                759      799      850      816      838   \n",
       "4                                960      812      782      848      813   \n",
       "\n",
       "   Grade 4  Grade 5  ...  % Multiple Race Categories Not Represented  # White  \\\n",
       "0      849      904  ...                                       0.027     2065   \n",
       "1      834      808  ...                                       0.031     2059   \n",
       "2      839      813  ...                                       0.035     2022   \n",
       "3      839      832  ...                                       0.038     2045   \n",
       "4      818      831  ...                                       0.050     2056   \n",
       "\n",
       "   % White  # Students with Disabilities  % Students with Disabilities  \\\n",
       "0    0.172                          2577                         0.215   \n",
       "1    0.175                          2555                         0.217   \n",
       "2    0.174                          2528                         0.217   \n",
       "3    0.180                          2597                         0.228   \n",
       "4    0.179                          2550                         0.222   \n",
       "\n",
       "   # English Language Learners  % English Language Learners  # Poverty  \\\n",
       "0                         1092                        0.091       7556   \n",
       "1                         1065                        0.090       7265   \n",
       "2                         1016                        0.087       7682   \n",
       "3                          966                        0.085       7314   \n",
       "4                          918                        0.080       7291   \n",
       "\n",
       "   % Poverty  Economic Need Index  \n",
       "0      0.629                0.606  \n",
       "1      0.617                0.597  \n",
       "2      0.660                0.670  \n",
       "3      0.643                0.661  \n",
       "4      0.634                0.671  \n",
       "\n",
       "[5 rows x 38 columns]"
      ]
     },
     "execution_count": 91,
     "metadata": {},
     "output_type": "execute_result"
    }
   ],
   "source": [
    "df.head()"
   ]
  },
  {
   "cell_type": "code",
   "execution_count": 92,
   "id": "6f2e3755",
   "metadata": {},
   "outputs": [],
   "source": [
    "df = df.drop_duplicates()"
   ]
  },
  {
   "cell_type": "code",
   "execution_count": 93,
   "id": "3e12f83e",
   "metadata": {},
   "outputs": [],
   "source": [
    "#As I'm only interested in 2019-2020 I will filter the dataframe\n",
    "\n",
    "df = df[(df.Year == \"2019-20\")]"
   ]
  },
  {
   "cell_type": "code",
   "execution_count": 94,
   "id": "fbafc316",
   "metadata": {},
   "outputs": [
    {
     "data": {
      "text/html": [
       "<div>\n",
       "<style scoped>\n",
       "    .dataframe tbody tr th:only-of-type {\n",
       "        vertical-align: middle;\n",
       "    }\n",
       "\n",
       "    .dataframe tbody tr th {\n",
       "        vertical-align: top;\n",
       "    }\n",
       "\n",
       "    .dataframe thead th {\n",
       "        text-align: right;\n",
       "    }\n",
       "</style>\n",
       "<table border=\"1\" class=\"dataframe\">\n",
       "  <thead>\n",
       "    <tr style=\"text-align: right;\">\n",
       "      <th></th>\n",
       "      <th>Administrative District</th>\n",
       "      <th>Year</th>\n",
       "      <th>Total Enrollment</th>\n",
       "      <th>Grade 3K+PK (Half Day &amp; Full Day)</th>\n",
       "      <th>Grade K</th>\n",
       "      <th>Grade 1</th>\n",
       "      <th>Grade 2</th>\n",
       "      <th>Grade 3</th>\n",
       "      <th>Grade 4</th>\n",
       "      <th>Grade 5</th>\n",
       "      <th>...</th>\n",
       "      <th>% Multiple Race Categories Not Represented</th>\n",
       "      <th># White</th>\n",
       "      <th>% White</th>\n",
       "      <th># Students with Disabilities</th>\n",
       "      <th>% Students with Disabilities</th>\n",
       "      <th># English Language Learners</th>\n",
       "      <th>% English Language Learners</th>\n",
       "      <th># Poverty</th>\n",
       "      <th>% Poverty</th>\n",
       "      <th>Economic Need Index</th>\n",
       "    </tr>\n",
       "  </thead>\n",
       "  <tbody>\n",
       "    <tr>\n",
       "      <th>4</th>\n",
       "      <td>1</td>\n",
       "      <td>2019-20</td>\n",
       "      <td>11506</td>\n",
       "      <td>960</td>\n",
       "      <td>812</td>\n",
       "      <td>782</td>\n",
       "      <td>848</td>\n",
       "      <td>813</td>\n",
       "      <td>818</td>\n",
       "      <td>831</td>\n",
       "      <td>...</td>\n",
       "      <td>0.050</td>\n",
       "      <td>2056</td>\n",
       "      <td>0.179</td>\n",
       "      <td>2550</td>\n",
       "      <td>0.222</td>\n",
       "      <td>918</td>\n",
       "      <td>0.080</td>\n",
       "      <td>7291</td>\n",
       "      <td>0.634</td>\n",
       "      <td>0.671</td>\n",
       "    </tr>\n",
       "    <tr>\n",
       "      <th>9</th>\n",
       "      <td>2</td>\n",
       "      <td>2019-20</td>\n",
       "      <td>62820</td>\n",
       "      <td>2966</td>\n",
       "      <td>3128</td>\n",
       "      <td>2896</td>\n",
       "      <td>2978</td>\n",
       "      <td>2772</td>\n",
       "      <td>2712</td>\n",
       "      <td>2667</td>\n",
       "      <td>...</td>\n",
       "      <td>0.050</td>\n",
       "      <td>16983</td>\n",
       "      <td>0.270</td>\n",
       "      <td>10903</td>\n",
       "      <td>0.174</td>\n",
       "      <td>4645</td>\n",
       "      <td>0.074</td>\n",
       "      <td>32232</td>\n",
       "      <td>0.513</td>\n",
       "      <td>0.528</td>\n",
       "    </tr>\n",
       "    <tr>\n",
       "      <th>14</th>\n",
       "      <td>3</td>\n",
       "      <td>2019-20</td>\n",
       "      <td>22564</td>\n",
       "      <td>1386</td>\n",
       "      <td>1384</td>\n",
       "      <td>1300</td>\n",
       "      <td>1243</td>\n",
       "      <td>1334</td>\n",
       "      <td>1369</td>\n",
       "      <td>1345</td>\n",
       "      <td>...</td>\n",
       "      <td>0.067</td>\n",
       "      <td>7443</td>\n",
       "      <td>0.330</td>\n",
       "      <td>4112</td>\n",
       "      <td>0.182</td>\n",
       "      <td>954</td>\n",
       "      <td>0.042</td>\n",
       "      <td>10300</td>\n",
       "      <td>0.456</td>\n",
       "      <td>0.490</td>\n",
       "    </tr>\n",
       "    <tr>\n",
       "      <th>19</th>\n",
       "      <td>4</td>\n",
       "      <td>2019-20</td>\n",
       "      <td>13004</td>\n",
       "      <td>1473</td>\n",
       "      <td>759</td>\n",
       "      <td>781</td>\n",
       "      <td>758</td>\n",
       "      <td>823</td>\n",
       "      <td>884</td>\n",
       "      <td>996</td>\n",
       "      <td>...</td>\n",
       "      <td>0.043</td>\n",
       "      <td>633</td>\n",
       "      <td>0.049</td>\n",
       "      <td>3062</td>\n",
       "      <td>0.235</td>\n",
       "      <td>1187</td>\n",
       "      <td>0.091</td>\n",
       "      <td>10392</td>\n",
       "      <td>0.799</td>\n",
       "      <td>0.834</td>\n",
       "    </tr>\n",
       "    <tr>\n",
       "      <th>24</th>\n",
       "      <td>5</td>\n",
       "      <td>2019-20</td>\n",
       "      <td>10947</td>\n",
       "      <td>1566</td>\n",
       "      <td>590</td>\n",
       "      <td>581</td>\n",
       "      <td>601</td>\n",
       "      <td>654</td>\n",
       "      <td>714</td>\n",
       "      <td>774</td>\n",
       "      <td>...</td>\n",
       "      <td>0.039</td>\n",
       "      <td>654</td>\n",
       "      <td>0.060</td>\n",
       "      <td>2633</td>\n",
       "      <td>0.241</td>\n",
       "      <td>835</td>\n",
       "      <td>0.076</td>\n",
       "      <td>8752</td>\n",
       "      <td>0.799</td>\n",
       "      <td>0.828</td>\n",
       "    </tr>\n",
       "  </tbody>\n",
       "</table>\n",
       "<p>5 rows × 38 columns</p>\n",
       "</div>"
      ],
      "text/plain": [
       "    Administrative District     Year  Total Enrollment  \\\n",
       "4                         1  2019-20             11506   \n",
       "9                         2  2019-20             62820   \n",
       "14                        3  2019-20             22564   \n",
       "19                        4  2019-20             13004   \n",
       "24                        5  2019-20             10947   \n",
       "\n",
       "    Grade 3K+PK (Half Day & Full Day)  Grade K  Grade 1  Grade 2  Grade 3  \\\n",
       "4                                 960      812      782      848      813   \n",
       "9                                2966     3128     2896     2978     2772   \n",
       "14                               1386     1384     1300     1243     1334   \n",
       "19                               1473      759      781      758      823   \n",
       "24                               1566      590      581      601      654   \n",
       "\n",
       "    Grade 4  Grade 5  ...  % Multiple Race Categories Not Represented  \\\n",
       "4       818      831  ...                                       0.050   \n",
       "9      2712     2667  ...                                       0.050   \n",
       "14     1369     1345  ...                                       0.067   \n",
       "19      884      996  ...                                       0.043   \n",
       "24      714      774  ...                                       0.039   \n",
       "\n",
       "    # White  % White  # Students with Disabilities  \\\n",
       "4      2056    0.179                          2550   \n",
       "9     16983    0.270                         10903   \n",
       "14     7443    0.330                          4112   \n",
       "19      633    0.049                          3062   \n",
       "24      654    0.060                          2633   \n",
       "\n",
       "    % Students with Disabilities  # English Language Learners  \\\n",
       "4                          0.222                          918   \n",
       "9                          0.174                         4645   \n",
       "14                         0.182                          954   \n",
       "19                         0.235                         1187   \n",
       "24                         0.241                          835   \n",
       "\n",
       "    % English Language Learners  # Poverty  % Poverty  Economic Need Index  \n",
       "4                         0.080       7291      0.634                0.671  \n",
       "9                         0.074      32232      0.513                0.528  \n",
       "14                        0.042      10300      0.456                0.490  \n",
       "19                        0.091      10392      0.799                0.834  \n",
       "24                        0.076       8752      0.799                0.828  \n",
       "\n",
       "[5 rows x 38 columns]"
      ]
     },
     "execution_count": 94,
     "metadata": {},
     "output_type": "execute_result"
    }
   ],
   "source": [
    "df.head()"
   ]
  },
  {
   "cell_type": "code",
   "execution_count": 95,
   "id": "5fda895f",
   "metadata": {},
   "outputs": [
    {
     "data": {
      "text/plain": [
       "Index(['Administrative District', 'Year', 'Total Enrollment',\n",
       "       'Grade 3K+PK (Half Day & Full Day)', 'Grade K', 'Grade 1', 'Grade 2',\n",
       "       'Grade 3', 'Grade 4', 'Grade 5', 'Grade 6', 'Grade 7', 'Grade 8',\n",
       "       'Grade 9', 'Grade 10', 'Grade 11', 'Grade 12', '# Female', '% Female',\n",
       "       '# Male', '% Male', '# Asian', '% Asian', '# Black', '% Black',\n",
       "       '# Hispanic', '% Hispanic',\n",
       "       '# Multiple Race Categories Not Represented',\n",
       "       '% Multiple Race Categories Not Represented', '# White', '% White',\n",
       "       '# Students with Disabilities', '% Students with Disabilities',\n",
       "       '# English Language Learners', '% English Language Learners',\n",
       "       '# Poverty', '% Poverty', 'Economic Need Index'],\n",
       "      dtype='object')"
      ]
     },
     "execution_count": 95,
     "metadata": {},
     "output_type": "execute_result"
    }
   ],
   "source": [
    "df.columns"
   ]
  },
  {
   "cell_type": "code",
   "execution_count": 96,
   "id": "99f32305",
   "metadata": {},
   "outputs": [],
   "source": [
    "#dropping the columns that don't add relevant information\n",
    "df = df.drop(['Year','Grade 3K+PK (Half Day & Full Day)', 'Grade K', 'Grade 1', 'Grade 2',\n",
    "       'Grade 3', 'Grade 4', 'Grade 5', 'Grade 6', 'Grade 7', 'Grade 8',\n",
    "       'Grade 9', 'Grade 10', 'Grade 11', 'Grade 12','% Female','% Male','% Asian','% Black','% Hispanic',\n",
    "       '% Multiple Race Categories Not Represented','% White','% Students with Disabilities','% English Language Learners',\n",
    "       '% Poverty'], axis=1)"
   ]
  },
  {
   "cell_type": "code",
   "execution_count": 97,
   "id": "c67e3885",
   "metadata": {},
   "outputs": [
    {
     "data": {
      "text/plain": [
       "Index(['Administrative District', 'Total Enrollment', '# Female', '# Male',\n",
       "       '# Asian', '# Black', '# Hispanic',\n",
       "       '# Multiple Race Categories Not Represented', '# White',\n",
       "       '# Students with Disabilities', '# English Language Learners',\n",
       "       '# Poverty', 'Economic Need Index'],\n",
       "      dtype='object')"
      ]
     },
     "execution_count": 97,
     "metadata": {},
     "output_type": "execute_result"
    }
   ],
   "source": [
    "df.columns"
   ]
  },
  {
   "cell_type": "code",
   "execution_count": 98,
   "id": "da7c7685",
   "metadata": {},
   "outputs": [
    {
     "data": {
      "text/plain": [
       "Administrative District                       0\n",
       "Total Enrollment                              0\n",
       "# Female                                      0\n",
       "# Male                                        0\n",
       "# Asian                                       0\n",
       "# Black                                       0\n",
       "# Hispanic                                    0\n",
       "# Multiple Race Categories Not Represented    0\n",
       "# White                                       0\n",
       "# Students with Disabilities                  0\n",
       "# English Language Learners                   0\n",
       "# Poverty                                     0\n",
       "Economic Need Index                           0\n",
       "dtype: int64"
      ]
     },
     "execution_count": 98,
     "metadata": {},
     "output_type": "execute_result"
    }
   ],
   "source": [
    "#checking null values\n",
    "\n",
    "df.isnull().sum()"
   ]
  },
  {
   "cell_type": "code",
   "execution_count": 99,
   "id": "490c33d9",
   "metadata": {},
   "outputs": [
    {
     "data": {
      "image/png": "[encoded data removed]",
      "text/plain": [
       "<Figure size 1080x576 with 2 Axes>"
      ]
     },
     "metadata": {
      "needs_background": "light"
     },
     "output_type": "display_data"
    }
   ],
   "source": [
    "#visualize the correlation between variables\n",
    "\n",
    "correl=df.corr().round(3)\n",
    "mascara=np.triu(correl)\n",
    "f, ax=plt.subplots(figsize=(15, 8))\n",
    "sns.heatmap(correl, mask=mascara, annot=True, linewidths=.5,  vmin=-1, vmax=1,  cmap='BrBG_r')\n",
    "ax.set_title('Correlation heatmap')\n",
    "plt.show()"
   ]
  },
  {
   "cell_type": "code",
   "execution_count": 100,
   "id": "69b49251",
   "metadata": {},
   "outputs": [
    {
     "data": {
      "text/html": [
       "<div>\n",
       "<style scoped>\n",
       "    .dataframe tbody tr th:only-of-type {\n",
       "        vertical-align: middle;\n",
       "    }\n",
       "\n",
       "    .dataframe tbody tr th {\n",
       "        vertical-align: top;\n",
       "    }\n",
       "\n",
       "    .dataframe thead th {\n",
       "        text-align: right;\n",
       "    }\n",
       "</style>\n",
       "<table border=\"1\" class=\"dataframe\">\n",
       "  <thead>\n",
       "    <tr style=\"text-align: right;\">\n",
       "      <th></th>\n",
       "      <th>Administrative District</th>\n",
       "      <th>Total Enrollment</th>\n",
       "      <th># Female</th>\n",
       "      <th># Male</th>\n",
       "      <th># Asian</th>\n",
       "      <th># Black</th>\n",
       "      <th># Hispanic</th>\n",
       "      <th># Multiple Race Categories Not Represented</th>\n",
       "      <th># White</th>\n",
       "      <th># Students with Disabilities</th>\n",
       "      <th># English Language Learners</th>\n",
       "      <th># Poverty</th>\n",
       "      <th>Economic Need Index</th>\n",
       "    </tr>\n",
       "  </thead>\n",
       "  <tbody>\n",
       "    <tr>\n",
       "      <th>Administrative District</th>\n",
       "      <td>1.000000</td>\n",
       "      <td>0.383506</td>\n",
       "      <td>0.333678</td>\n",
       "      <td>0.431335</td>\n",
       "      <td>0.046245</td>\n",
       "      <td>0.512144</td>\n",
       "      <td>0.253030</td>\n",
       "      <td>0.177636</td>\n",
       "      <td>0.033826</td>\n",
       "      <td>0.573060</td>\n",
       "      <td>0.220198</td>\n",
       "      <td>0.429487</td>\n",
       "      <td>0.117266</td>\n",
       "    </tr>\n",
       "    <tr>\n",
       "      <th>Total Enrollment</th>\n",
       "      <td>0.383506</td>\n",
       "      <td>1.000000</td>\n",
       "      <td>0.995506</td>\n",
       "      <td>0.995208</td>\n",
       "      <td>0.453553</td>\n",
       "      <td>0.698917</td>\n",
       "      <td>0.838569</td>\n",
       "      <td>0.724471</td>\n",
       "      <td>0.529459</td>\n",
       "      <td>0.728380</td>\n",
       "      <td>0.709407</td>\n",
       "      <td>0.970063</td>\n",
       "      <td>-0.274314</td>\n",
       "    </tr>\n",
       "    <tr>\n",
       "      <th># Female</th>\n",
       "      <td>0.333678</td>\n",
       "      <td>0.995506</td>\n",
       "      <td>1.000000</td>\n",
       "      <td>0.981476</td>\n",
       "      <td>0.443020</td>\n",
       "      <td>0.703368</td>\n",
       "      <td>0.831996</td>\n",
       "      <td>0.734339</td>\n",
       "      <td>0.525496</td>\n",
       "      <td>0.670102</td>\n",
       "      <td>0.679518</td>\n",
       "      <td>0.960107</td>\n",
       "      <td>-0.296111</td>\n",
       "    </tr>\n",
       "    <tr>\n",
       "      <th># Male</th>\n",
       "      <td>0.431335</td>\n",
       "      <td>0.995208</td>\n",
       "      <td>0.981476</td>\n",
       "      <td>1.000000</td>\n",
       "      <td>0.460151</td>\n",
       "      <td>0.687729</td>\n",
       "      <td>0.837446</td>\n",
       "      <td>0.707450</td>\n",
       "      <td>0.528556</td>\n",
       "      <td>0.781681</td>\n",
       "      <td>0.733575</td>\n",
       "      <td>0.971194</td>\n",
       "      <td>-0.249221</td>\n",
       "    </tr>\n",
       "    <tr>\n",
       "      <th># Asian</th>\n",
       "      <td>0.046245</td>\n",
       "      <td>0.453553</td>\n",
       "      <td>0.443020</td>\n",
       "      <td>0.460151</td>\n",
       "      <td>1.000000</td>\n",
       "      <td>-0.113743</td>\n",
       "      <td>0.175018</td>\n",
       "      <td>0.420414</td>\n",
       "      <td>0.569908</td>\n",
       "      <td>0.203785</td>\n",
       "      <td>0.528473</td>\n",
       "      <td>0.346920</td>\n",
       "      <td>-0.546310</td>\n",
       "    </tr>\n",
       "    <tr>\n",
       "      <th># Black</th>\n",
       "      <td>0.512144</td>\n",
       "      <td>0.698917</td>\n",
       "      <td>0.703368</td>\n",
       "      <td>0.687729</td>\n",
       "      <td>-0.113743</td>\n",
       "      <td>1.000000</td>\n",
       "      <td>0.530274</td>\n",
       "      <td>0.475879</td>\n",
       "      <td>-0.003246</td>\n",
       "      <td>0.543641</td>\n",
       "      <td>0.208258</td>\n",
       "      <td>0.756574</td>\n",
       "      <td>0.020170</td>\n",
       "    </tr>\n",
       "    <tr>\n",
       "      <th># Hispanic</th>\n",
       "      <td>0.253030</td>\n",
       "      <td>0.838569</td>\n",
       "      <td>0.831996</td>\n",
       "      <td>0.837446</td>\n",
       "      <td>0.175018</td>\n",
       "      <td>0.530274</td>\n",
       "      <td>1.000000</td>\n",
       "      <td>0.495364</td>\n",
       "      <td>0.224816</td>\n",
       "      <td>0.635780</td>\n",
       "      <td>0.798520</td>\n",
       "      <td>0.883872</td>\n",
       "      <td>0.080353</td>\n",
       "    </tr>\n",
       "    <tr>\n",
       "      <th># Multiple Race Categories Not Represented</th>\n",
       "      <td>0.177636</td>\n",
       "      <td>0.724471</td>\n",
       "      <td>0.734339</td>\n",
       "      <td>0.707450</td>\n",
       "      <td>0.420414</td>\n",
       "      <td>0.475879</td>\n",
       "      <td>0.495364</td>\n",
       "      <td>1.000000</td>\n",
       "      <td>0.487889</td>\n",
       "      <td>0.481573</td>\n",
       "      <td>0.314793</td>\n",
       "      <td>0.612575</td>\n",
       "      <td>-0.548738</td>\n",
       "    </tr>\n",
       "    <tr>\n",
       "      <th># White</th>\n",
       "      <td>0.033826</td>\n",
       "      <td>0.529459</td>\n",
       "      <td>0.525496</td>\n",
       "      <td>0.528556</td>\n",
       "      <td>0.569908</td>\n",
       "      <td>-0.003246</td>\n",
       "      <td>0.224816</td>\n",
       "      <td>0.487889</td>\n",
       "      <td>1.000000</td>\n",
       "      <td>0.412151</td>\n",
       "      <td>0.335512</td>\n",
       "      <td>0.350626</td>\n",
       "      <td>-0.617844</td>\n",
       "    </tr>\n",
       "    <tr>\n",
       "      <th># Students with Disabilities</th>\n",
       "      <td>0.573060</td>\n",
       "      <td>0.728380</td>\n",
       "      <td>0.670102</td>\n",
       "      <td>0.781681</td>\n",
       "      <td>0.203785</td>\n",
       "      <td>0.543641</td>\n",
       "      <td>0.635780</td>\n",
       "      <td>0.481573</td>\n",
       "      <td>0.412151</td>\n",
       "      <td>1.000000</td>\n",
       "      <td>0.588883</td>\n",
       "      <td>0.730387</td>\n",
       "      <td>-0.029256</td>\n",
       "    </tr>\n",
       "    <tr>\n",
       "      <th># English Language Learners</th>\n",
       "      <td>0.220198</td>\n",
       "      <td>0.709407</td>\n",
       "      <td>0.679518</td>\n",
       "      <td>0.733575</td>\n",
       "      <td>0.528473</td>\n",
       "      <td>0.208258</td>\n",
       "      <td>0.798520</td>\n",
       "      <td>0.314793</td>\n",
       "      <td>0.335512</td>\n",
       "      <td>0.588883</td>\n",
       "      <td>1.000000</td>\n",
       "      <td>0.753313</td>\n",
       "      <td>0.056829</td>\n",
       "    </tr>\n",
       "    <tr>\n",
       "      <th># Poverty</th>\n",
       "      <td>0.429487</td>\n",
       "      <td>0.970063</td>\n",
       "      <td>0.960107</td>\n",
       "      <td>0.971194</td>\n",
       "      <td>0.346920</td>\n",
       "      <td>0.756574</td>\n",
       "      <td>0.883872</td>\n",
       "      <td>0.612575</td>\n",
       "      <td>0.350626</td>\n",
       "      <td>0.730387</td>\n",
       "      <td>0.753313</td>\n",
       "      <td>1.000000</td>\n",
       "      <td>-0.068021</td>\n",
       "    </tr>\n",
       "    <tr>\n",
       "      <th>Economic Need Index</th>\n",
       "      <td>0.117266</td>\n",
       "      <td>-0.274314</td>\n",
       "      <td>-0.296111</td>\n",
       "      <td>-0.249221</td>\n",
       "      <td>-0.546310</td>\n",
       "      <td>0.020170</td>\n",
       "      <td>0.080353</td>\n",
       "      <td>-0.548738</td>\n",
       "      <td>-0.617844</td>\n",
       "      <td>-0.029256</td>\n",
       "      <td>0.056829</td>\n",
       "      <td>-0.068021</td>\n",
       "      <td>1.000000</td>\n",
       "    </tr>\n",
       "  </tbody>\n",
       "</table>\n",
       "</div>"
      ],
      "text/plain": [
       "                                            Administrative District  \\\n",
       "Administrative District                                    1.000000   \n",
       "Total Enrollment                                           0.383506   \n",
       "# Female                                                   0.333678   \n",
       "# Male                                                     0.431335   \n",
       "# Asian                                                    0.046245   \n",
       "# Black                                                    0.512144   \n",
       "# Hispanic                                                 0.253030   \n",
       "# Multiple Race Categories Not Represented                 0.177636   \n",
       "# White                                                    0.033826   \n",
       "# Students with Disabilities                               0.573060   \n",
       "# English Language Learners                                0.220198   \n",
       "# Poverty                                                  0.429487   \n",
       "Economic Need Index                                        0.117266   \n",
       "\n",
       "                                            Total Enrollment  # Female  \\\n",
       "Administrative District                             0.383506  0.333678   \n",
       "Total Enrollment                                    1.000000  0.995506   \n",
       "# Female                                            0.995506  1.000000   \n",
       "# Male                                              0.995208  0.981476   \n",
       "# Asian                                             0.453553  0.443020   \n",
       "# Black                                             0.698917  0.703368   \n",
       "# Hispanic                                          0.838569  0.831996   \n",
       "# Multiple Race Categories Not Represented          0.724471  0.734339   \n",
       "# White                                             0.529459  0.525496   \n",
       "# Students with Disabilities                        0.728380  0.670102   \n",
       "# English Language Learners                         0.709407  0.679518   \n",
       "# Poverty                                           0.970063  0.960107   \n",
       "Economic Need Index                                -0.274314 -0.296111   \n",
       "\n",
       "                                              # Male   # Asian   # Black  \\\n",
       "Administrative District                     0.431335  0.046245  0.512144   \n",
       "Total Enrollment                            0.995208  0.453553  0.698917   \n",
       "# Female                                    0.981476  0.443020  0.703368   \n",
       "# Male                                      1.000000  0.460151  0.687729   \n",
       "# Asian                                     0.460151  1.000000 -0.113743   \n",
       "# Black                                     0.687729 -0.113743  1.000000   \n",
       "# Hispanic                                  0.837446  0.175018  0.530274   \n",
       "# Multiple Race Categories Not Represented  0.707450  0.420414  0.475879   \n",
       "# White                                     0.528556  0.569908 -0.003246   \n",
       "# Students with Disabilities                0.781681  0.203785  0.543641   \n",
       "# English Language Learners                 0.733575  0.528473  0.208258   \n",
       "# Poverty                                   0.971194  0.346920  0.756574   \n",
       "Economic Need Index                        -0.249221 -0.546310  0.020170   \n",
       "\n",
       "                                            # Hispanic  \\\n",
       "Administrative District                       0.253030   \n",
       "Total Enrollment                              0.838569   \n",
       "# Female                                      0.831996   \n",
       "# Male                                        0.837446   \n",
       "# Asian                                       0.175018   \n",
       "# Black                                       0.530274   \n",
       "# Hispanic                                    1.000000   \n",
       "# Multiple Race Categories Not Represented    0.495364   \n",
       "# White                                       0.224816   \n",
       "# Students with Disabilities                  0.635780   \n",
       "# English Language Learners                   0.798520   \n",
       "# Poverty                                     0.883872   \n",
       "Economic Need Index                           0.080353   \n",
       "\n",
       "                                            # Multiple Race Categories Not Represented  \\\n",
       "Administrative District                                                       0.177636   \n",
       "Total Enrollment                                                              0.724471   \n",
       "# Female                                                                      0.734339   \n",
       "# Male                                                                        0.707450   \n",
       "# Asian                                                                       0.420414   \n",
       "# Black                                                                       0.475879   \n",
       "# Hispanic                                                                    0.495364   \n",
       "# Multiple Race Categories Not Represented                                    1.000000   \n",
       "# White                                                                       0.487889   \n",
       "# Students with Disabilities                                                  0.481573   \n",
       "# English Language Learners                                                   0.314793   \n",
       "# Poverty                                                                     0.612575   \n",
       "Economic Need Index                                                          -0.548738   \n",
       "\n",
       "                                             # White  \\\n",
       "Administrative District                     0.033826   \n",
       "Total Enrollment                            0.529459   \n",
       "# Female                                    0.525496   \n",
       "# Male                                      0.528556   \n",
       "# Asian                                     0.569908   \n",
       "# Black                                    -0.003246   \n",
       "# Hispanic                                  0.224816   \n",
       "# Multiple Race Categories Not Represented  0.487889   \n",
       "# White                                     1.000000   \n",
       "# Students with Disabilities                0.412151   \n",
       "# English Language Learners                 0.335512   \n",
       "# Poverty                                   0.350626   \n",
       "Economic Need Index                        -0.617844   \n",
       "\n",
       "                                            # Students with Disabilities  \\\n",
       "Administrative District                                         0.573060   \n",
       "Total Enrollment                                                0.728380   \n",
       "# Female                                                        0.670102   \n",
       "# Male                                                          0.781681   \n",
       "# Asian                                                         0.203785   \n",
       "# Black                                                         0.543641   \n",
       "# Hispanic                                                      0.635780   \n",
       "# Multiple Race Categories Not Represented                      0.481573   \n",
       "# White                                                         0.412151   \n",
       "# Students with Disabilities                                    1.000000   \n",
       "# English Language Learners                                     0.588883   \n",
       "# Poverty                                                       0.730387   \n",
       "Economic Need Index                                            -0.029256   \n",
       "\n",
       "                                            # English Language Learners  \\\n",
       "Administrative District                                        0.220198   \n",
       "Total Enrollment                                               0.709407   \n",
       "# Female                                                       0.679518   \n",
       "# Male                                                         0.733575   \n",
       "# Asian                                                        0.528473   \n",
       "# Black                                                        0.208258   \n",
       "# Hispanic                                                     0.798520   \n",
       "# Multiple Race Categories Not Represented                     0.314793   \n",
       "# White                                                        0.335512   \n",
       "# Students with Disabilities                                   0.588883   \n",
       "# English Language Learners                                    1.000000   \n",
       "# Poverty                                                      0.753313   \n",
       "Economic Need Index                                            0.056829   \n",
       "\n",
       "                                            # Poverty  Economic Need Index  \n",
       "Administrative District                      0.429487             0.117266  \n",
       "Total Enrollment                             0.970063            -0.274314  \n",
       "# Female                                     0.960107            -0.296111  \n",
       "# Male                                       0.971194            -0.249221  \n",
       "# Asian                                      0.346920            -0.546310  \n",
       "# Black                                      0.756574             0.020170  \n",
       "# Hispanic                                   0.883872             0.080353  \n",
       "# Multiple Race Categories Not Represented   0.612575            -0.548738  \n",
       "# White                                      0.350626            -0.617844  \n",
       "# Students with Disabilities                 0.730387            -0.029256  \n",
       "# English Language Learners                  0.753313             0.056829  \n",
       "# Poverty                                    1.000000            -0.068021  \n",
       "Economic Need Index                         -0.068021             1.000000  "
      ]
     },
     "execution_count": 100,
     "metadata": {},
     "output_type": "execute_result"
    }
   ],
   "source": [
    "df.corr()"
   ]
  },
  {
   "cell_type": "code",
   "execution_count": 101,
   "id": "e63b9086",
   "metadata": {},
   "outputs": [],
   "source": [
    "from sklearn.model_selection import train_test_split\n",
    "from sklearn.preprocessing import StandardScaler\n",
    "from sklearn.ensemble import RandomForestRegressor\n",
    "from sklearn.pipeline import Pipeline\n",
    "from sklearn.model_selection import GridSearchCV"
   ]
  },
  {
   "cell_type": "code",
   "execution_count": 102,
   "id": "c408deea",
   "metadata": {},
   "outputs": [],
   "source": [
    "X = df.drop(['# Poverty'],axis=1) \n",
    "y = df['# Poverty']"
   ]
  },
  {
   "cell_type": "code",
   "execution_count": 103,
   "id": "bae6222c",
   "metadata": {},
   "outputs": [],
   "source": [
    "X_train, X_test, y_train, y_test = train_test_split(X,y,test_size=0.2, random_state=42)"
   ]
  },
  {
   "cell_type": "code",
   "execution_count": 104,
   "id": "6db71ae6",
   "metadata": {},
   "outputs": [],
   "source": [
    "#steps for pipeline: scaling and RF\n",
    "steps = [('scaler', StandardScaler()), ('RF', RandomForestRegressor())]\n",
    "\n",
    "#pipline instance\n",
    "pipeline = Pipeline(steps)"
   ]
  },
  {
   "cell_type": "markdown",
   "id": "a8f20201",
   "metadata": {},
   "source": [
    "#### GridSearch\n",
    "\n",
    "Grid-search is used to find the optimal hyperparameters of a model which results in the most ‘accurate’ predictions."
   ]
  },
  {
   "cell_type": "code",
   "execution_count": 145,
   "id": "53a8492f",
   "metadata": {},
   "outputs": [
    {
     "data": {
      "text/plain": [
       "GridSearchCV(cv=5,\n",
       "             estimator=Pipeline(steps=[('scaler', StandardScaler()),\n",
       "                                       ('RF', RandomForestRegressor())]),\n",
       "             param_grid={'RF__max_depth': [1, 5, 10],\n",
       "                         'RF__n_estimators': [10, 20, 30, 40, 50, 100]})"
      ]
     },
     "execution_count": 145,
     "metadata": {},
     "output_type": "execute_result"
    }
   ],
   "source": [
    "#defining parameters for RF\n",
    "parameteres = {'RF__n_estimators':[10,20,30,40,50,100], 'RF__max_depth':[1,5,10]}\n",
    "\n",
    "#gridSearch\n",
    "grid = GridSearchCV(pipeline, param_grid=parameteres, cv=5)\n",
    "grid.fit(X_train, y_train)"
   ]
  },
  {
   "cell_type": "code",
   "execution_count": 146,
   "id": "356c3d20",
   "metadata": {},
   "outputs": [
    {
     "name": "stdout",
     "output_type": "stream",
     "text": [
      "score = 0.94\n",
      "{'RF__max_depth': 5, 'RF__n_estimators': 20}\n"
     ]
    }
   ],
   "source": [
    "print(\"score = %3.2f\" %(grid.score(X_test,y_test)))\n",
    "print(grid.best_params_)"
   ]
  },
  {
   "cell_type": "code",
   "execution_count": 147,
   "id": "ad8c816b",
   "metadata": {},
   "outputs": [
    {
     "data": {
      "text/plain": [
       "Pipeline(steps=[('scaler', StandardScaler()),\n",
       "                ('RF', RandomForestRegressor(max_depth=10, n_estimators=10))])"
      ]
     },
     "execution_count": 147,
     "metadata": {},
     "output_type": "execute_result"
    }
   ],
   "source": [
    "#creating the best model possible with values given by grid.best_params_\n",
    "model = Pipeline(steps=[('scaler', StandardScaler()),\n",
    "                       ('RF', RandomForestRegressor(max_depth=10,n_estimators=10))])\n",
    "model.fit(X_train, y_train)"
   ]
  },
  {
   "cell_type": "code",
   "execution_count": 148,
   "id": "ffec0875",
   "metadata": {},
   "outputs": [
    {
     "name": "stdout",
     "output_type": "stream",
     "text": [
      "predicted response:\n",
      "[29736.5 12818.7 27867.5 25786.5  9417.7 28113.9 38951.2]\n"
     ]
    }
   ],
   "source": [
    "#prediction values\n",
    "\n",
    "pred = model.predict(X_test)\n",
    "\n",
    "print('predicted response:', pred, sep='\\n')"
   ]
  },
  {
   "cell_type": "code",
   "execution_count": 149,
   "id": "960bdda5",
   "metadata": {},
   "outputs": [
    {
     "data": {
      "text/html": [
       "<div>\n",
       "<style scoped>\n",
       "    .dataframe tbody tr th:only-of-type {\n",
       "        vertical-align: middle;\n",
       "    }\n",
       "\n",
       "    .dataframe tbody tr th {\n",
       "        vertical-align: top;\n",
       "    }\n",
       "\n",
       "    .dataframe thead th {\n",
       "        text-align: right;\n",
       "    }\n",
       "</style>\n",
       "<table border=\"1\" class=\"dataframe\">\n",
       "  <thead>\n",
       "    <tr style=\"text-align: right;\">\n",
       "      <th></th>\n",
       "      <th>Actual</th>\n",
       "      <th>Predicted</th>\n",
       "    </tr>\n",
       "  </thead>\n",
       "  <tbody>\n",
       "    <tr>\n",
       "      <th>134</th>\n",
       "      <td>33840</td>\n",
       "      <td>29736.5</td>\n",
       "    </tr>\n",
       "    <tr>\n",
       "      <th>69</th>\n",
       "      <td>13038</td>\n",
       "      <td>12818.7</td>\n",
       "    </tr>\n",
       "    <tr>\n",
       "      <th>124</th>\n",
       "      <td>26713</td>\n",
       "      <td>27867.5</td>\n",
       "    </tr>\n",
       "    <tr>\n",
       "      <th>109</th>\n",
       "      <td>24030</td>\n",
       "      <td>25786.5</td>\n",
       "    </tr>\n",
       "    <tr>\n",
       "      <th>79</th>\n",
       "      <td>5320</td>\n",
       "      <td>9417.7</td>\n",
       "    </tr>\n",
       "  </tbody>\n",
       "</table>\n",
       "</div>"
      ],
      "text/plain": [
       "     Actual  Predicted\n",
       "134   33840    29736.5\n",
       "69    13038    12818.7\n",
       "124   26713    27867.5\n",
       "109   24030    25786.5\n",
       "79     5320     9417.7"
      ]
     },
     "execution_count": 149,
     "metadata": {},
     "output_type": "execute_result"
    }
   ],
   "source": [
    "df_rf=pd.DataFrame({'Actual':y_test, 'Predicted':pred})\n",
    "df_rf.head()"
   ]
  },
  {
   "cell_type": "markdown",
   "id": "2fa7f9d9",
   "metadata": {},
   "source": [
    "### Exercici 2\n",
    "\n",
    "Agafa un text en anglès que vulguis, i calcula'n la freqüència de les paraules"
   ]
  },
  {
   "cell_type": "code",
   "execution_count": 152,
   "id": "e29c95db",
   "metadata": {},
   "outputs": [
    {
     "data": {
      "text/plain": [
       "True"
      ]
     },
     "execution_count": 152,
     "metadata": {},
     "output_type": "execute_result"
    }
   ],
   "source": [
    "import nltk\n",
    "from nltk.tokenize import sent_tokenize\n",
    "from nltk.tokenize import word_tokenize\n",
    "from nltk.probability import FreqDist\n",
    "nltk.download('punkt', quiet=True)"
   ]
  },
  {
   "cell_type": "code",
   "execution_count": 161,
   "id": "047d6461",
   "metadata": {},
   "outputs": [],
   "source": [
    "text = open('/Users/Diana/Documents/IT Academy/Data Science/Gentrified.txt').read()"
   ]
  },
  {
   "cell_type": "code",
   "execution_count": 162,
   "id": "0f47b4ad",
   "metadata": {},
   "outputs": [
    {
     "name": "stdout",
     "output_type": "stream",
     "text": [
      "['In my forties, I began spending winters in New Orleans, a city I deeply loved.', 'I had started to see how my life could look different.', 'Easier, and calmer.', 'I did not want to grow old in New York.', 'I had been young there, and that was enough.', 'In 2016, I bought a small house in New Orleans.', 'The next winter, the Williamsburg apartment building was sold for fifty-six million dollars.', 'There had been whispers it had been up for sale for months, or years, even.', 'The new owners were reportedly connected with Jared Kushner, who was rumored to be one of the worst landlords in the city, employing aggressive tactics to intimidate or evict longtime tenants.', 'Almost immediately, people lawyered up.', 'Cameras were installed all over the building.', 'Eviction notices were posted on doors.', 'And yet, still, nothing that needed to be fixed was fixed.', 'People moved out—either kicked out or bought out—and rents got higher.', 'Everyone was stressed and anxious, all the time.', 'The sunsets on the roof and the river outside the front door didn’t change the fact that there were big, new condo buildings everywhere.', 'The neighborhood had changed.', 'It’s not what it used to be—a typical moan in New York City, but it was true, the actual physical landscape had changed.']\n"
     ]
    }
   ],
   "source": [
    "#tokenize the text into sentences\n",
    "\n",
    "tokenized_text=sent_tokenize(text)\n",
    "print(tokenized_text)"
   ]
  },
  {
   "cell_type": "code",
   "execution_count": 164,
   "id": "b7309803",
   "metadata": {},
   "outputs": [
    {
     "name": "stdout",
     "output_type": "stream",
     "text": [
      "['In', 'my', 'forties', ',', 'I', 'began', 'spending', 'winters', 'in', 'New', 'Orleans', ',', 'a', 'city', 'I', 'deeply', 'loved', '.', 'I', 'had', 'started', 'to', 'see', 'how', 'my', 'life', 'could', 'look', 'different', '.', 'Easier', ',', 'and', 'calmer', '.', 'I', 'did', 'not', 'want', 'to', 'grow', 'old', 'in', 'New', 'York', '.', 'I', 'had', 'been', 'young', 'there', ',', 'and', 'that', 'was', 'enough', '.', 'In', '2016', ',', 'I', 'bought', 'a', 'small', 'house', 'in', 'New', 'Orleans', '.', 'The', 'next', 'winter', ',', 'the', 'Williamsburg', 'apartment', 'building', 'was', 'sold', 'for', 'fifty-six', 'million', 'dollars', '.', 'There', 'had', 'been', 'whispers', 'it', 'had', 'been', 'up', 'for', 'sale', 'for', 'months', ',', 'or', 'years', ',', 'even', '.', 'The', 'new', 'owners', 'were', 'reportedly', 'connected', 'with', 'Jared', 'Kushner', ',', 'who', 'was', 'rumored', 'to', 'be', 'one', 'of', 'the', 'worst', 'landlords', 'in', 'the', 'city', ',', 'employing', 'aggressive', 'tactics', 'to', 'intimidate', 'or', 'evict', 'longtime', 'tenants', '.', 'Almost', 'immediately', ',', 'people', 'lawyered', 'up', '.', 'Cameras', 'were', 'installed', 'all', 'over', 'the', 'building', '.', 'Eviction', 'notices', 'were', 'posted', 'on', 'doors', '.', 'And', 'yet', ',', 'still', ',', 'nothing', 'that', 'needed', 'to', 'be', 'fixed', 'was', 'fixed', '.', 'People', 'moved', 'out—either', 'kicked', 'out', 'or', 'bought', 'out—and', 'rents', 'got', 'higher', '.', 'Everyone', 'was', 'stressed', 'and', 'anxious', ',', 'all', 'the', 'time', '.', 'The', 'sunsets', 'on', 'the', 'roof', 'and', 'the', 'river', 'outside', 'the', 'front', 'door', 'didn', '’', 't', 'change', 'the', 'fact', 'that', 'there', 'were', 'big', ',', 'new', 'condo', 'buildings', 'everywhere', '.', 'The', 'neighborhood', 'had', 'changed', '.', 'It', '’', 's', 'not', 'what', 'it', 'used', 'to', 'be—a', 'typical', 'moan', 'in', 'New', 'York', 'City', ',', 'but', 'it', 'was', 'true', ',', 'the', 'actual', 'physical', 'landscape', 'had', 'changed', '.']\n"
     ]
    }
   ],
   "source": [
    "#word tokenization\n",
    "\n",
    "tokenized_word=word_tokenize(text)\n",
    "print(tokenized_word)"
   ]
  },
  {
   "cell_type": "code",
   "execution_count": 165,
   "id": "4e7dda04",
   "metadata": {},
   "outputs": [
    {
     "name": "stdout",
     "output_type": "stream",
     "text": [
      "<FreqDist with 149 samples and 255 outcomes>\n"
     ]
    }
   ],
   "source": [
    "#Frequency Distribution\n",
    "\n",
    "from nltk.probability import FreqDist\n",
    "fdist = FreqDist(tokenized_word)\n",
    "print(fdist)"
   ]
  },
  {
   "cell_type": "code",
   "execution_count": 166,
   "id": "264dfd3a",
   "metadata": {},
   "outputs": [
    {
     "data": {
      "text/plain": [
       "[('.', 18), (',', 17)]"
      ]
     },
     "execution_count": 166,
     "metadata": {},
     "output_type": "execute_result"
    }
   ],
   "source": [
    "fdist.most_common(2)"
   ]
  },
  {
   "cell_type": "code",
   "execution_count": 167,
   "id": "bed5f82d",
   "metadata": {},
   "outputs": [
    {
     "data": {
      "image/png": "[encoded data removed]",
      "text/plain": [
       "<Figure size 432x288 with 1 Axes>"
      ]
     },
     "metadata": {
      "needs_background": "light"
     },
     "output_type": "display_data"
    }
   ],
   "source": [
    "# Frequency Distribution Plot\n",
    "\n",
    "import matplotlib.pyplot as plt\n",
    "fdist.plot(30,cumulative=False)\n",
    "plt.show()"
   ]
  },
  {
   "cell_type": "markdown",
   "id": "21206f25",
   "metadata": {},
   "source": [
    "### Nivell 2\n",
    "### Exercici 1\n",
    "\n",
    "Treu les stopwords i realitza stemming al teu conjunt de dades."
   ]
  },
  {
   "cell_type": "code",
   "execution_count": 173,
   "id": "c74b0ca9",
   "metadata": {},
   "outputs": [
    {
     "name": "stdout",
     "output_type": "stream",
     "text": [
      "{'that', 'down', 'our', 'weren', 'yourselves', 'these', 'no', 'been', 'after', 'or', 'was', 'very', \"won't\", 'herself', 'then', 'only', 'what', 'haven', 'its', 'of', 'can', 'themselves', 'is', 're', \"it's\", 'against', \"she's\", 'my', 'o', 'shan', 'ourselves', \"weren't\", 'did', \"you'll\", 'more', 'nor', 'll', 'here', 'were', 'by', 'ma', 'i', \"doesn't\", 'ain', 'she', \"shouldn't\", 'about', 'just', 'you', 'having', 'over', \"hasn't\", 'where', \"wasn't\", \"you'd\", 'in', 'but', 'at', 'before', \"wouldn't\", 'up', \"should've\", 'it', 't', 'while', 'theirs', 'same', 'because', \"hadn't\", 'the', 'so', 's', 'off', 'on', 'am', \"that'll\", 'whom', 'most', 'under', 'them', 'wasn', \"mightn't\", 'doesn', \"don't\", 'again', 'being', 'had', 'will', 'both', 'does', 'until', 'those', \"aren't\", 'how', 'now', 'each', 'to', 'isn', 'during', 'myself', 'when', 'their', \"haven't\", 'has', 'some', 'between', 'below', 'won', 'hers', 'and', 'd', 'his', 'any', 'such', \"you've\", 'don', 'as', 'with', 'above', 'than', 'too', 'itself', 'few', 'out', \"you're\", 'himself', 'which', 'be', 'why', 'through', \"needn't\", 'me', 'shouldn', 'an', 'not', 've', 'him', \"shan't\", 'once', \"mustn't\", 'her', 'y', 'for', 'wouldn', 'do', 'if', 'we', 'there', 'mustn', 'have', 'should', 'your', \"couldn't\", 'own', 'needn', 'yourself', 'other', 'hadn', 'mightn', 'yours', 'who', 'all', 'a', 'hasn', \"didn't\", 'doing', 'm', 'ours', 'are', 'couldn', 'from', 'further', 'didn', 'they', 'aren', 'into', \"isn't\", 'he', 'this'}\n"
     ]
    }
   ],
   "source": [
    "from nltk.corpus import stopwords\n",
    "stop_words=set(stopwords.words(\"english\"))\n",
    "print(stop_words)"
   ]
  },
  {
   "cell_type": "code",
   "execution_count": 176,
   "id": "2d89aa33",
   "metadata": {},
   "outputs": [
    {
     "name": "stdout",
     "output_type": "stream",
     "text": [
      "Tokenized Sentence: ['In', 'my', 'forties', ',', 'I', 'began', 'spending', 'winters', 'in', 'New', 'Orleans', ',', 'a', 'city', 'I', 'deeply', 'loved', '.', 'I', 'had', 'started', 'to', 'see', 'how', 'my', 'life', 'could', 'look', 'different', '.', 'Easier', ',', 'and', 'calmer', '.', 'I', 'did', 'not', 'want', 'to', 'grow', 'old', 'in', 'New', 'York', '.', 'I', 'had', 'been', 'young', 'there', ',', 'and', 'that', 'was', 'enough', '.', 'In', '2016', ',', 'I', 'bought', 'a', 'small', 'house', 'in', 'New', 'Orleans', '.', 'The', 'next', 'winter', ',', 'the', 'Williamsburg', 'apartment', 'building', 'was', 'sold', 'for', 'fifty-six', 'million', 'dollars', '.', 'There', 'had', 'been', 'whispers', 'it', 'had', 'been', 'up', 'for', 'sale', 'for', 'months', ',', 'or', 'years', ',', 'even', '.', 'The', 'new', 'owners', 'were', 'reportedly', 'connected', 'with', 'Jared', 'Kushner', ',', 'who', 'was', 'rumored', 'to', 'be', 'one', 'of', 'the', 'worst', 'landlords', 'in', 'the', 'city', ',', 'employing', 'aggressive', 'tactics', 'to', 'intimidate', 'or', 'evict', 'longtime', 'tenants', '.', 'Almost', 'immediately', ',', 'people', 'lawyered', 'up', '.', 'Cameras', 'were', 'installed', 'all', 'over', 'the', 'building', '.', 'Eviction', 'notices', 'were', 'posted', 'on', 'doors', '.', 'And', 'yet', ',', 'still', ',', 'nothing', 'that', 'needed', 'to', 'be', 'fixed', 'was', 'fixed', '.', 'People', 'moved', 'out—either', 'kicked', 'out', 'or', 'bought', 'out—and', 'rents', 'got', 'higher', '.', 'Everyone', 'was', 'stressed', 'and', 'anxious', ',', 'all', 'the', 'time', '.', 'The', 'sunsets', 'on', 'the', 'roof', 'and', 'the', 'river', 'outside', 'the', 'front', 'door', 'didn', '’', 't', 'change', 'the', 'fact', 'that', 'there', 'were', 'big', ',', 'new', 'condo', 'buildings', 'everywhere', '.', 'The', 'neighborhood', 'had', 'changed', '.', 'It', '’', 's', 'not', 'what', 'it', 'used', 'to', 'be—a', 'typical', 'moan', 'in', 'New', 'York', 'City', ',', 'but', 'it', 'was', 'true', ',', 'the', 'actual', 'physical', 'landscape', 'had', 'changed', '.']\n",
      "Filterd Sentence: ['In', 'forties', ',', 'I', 'began', 'spending', 'winters', 'New', 'Orleans', ',', 'city', 'I', 'deeply', 'loved', '.', 'I', 'started', 'see', 'life', 'could', 'look', 'different', '.', 'Easier', ',', 'calmer', '.', 'I', 'want', 'grow', 'old', 'New', 'York', '.', 'I', 'young', ',', 'enough', '.', 'In', '2016', ',', 'I', 'bought', 'small', 'house', 'New', 'Orleans', '.', 'The', 'next', 'winter', ',', 'Williamsburg', 'apartment', 'building', 'sold', 'fifty-six', 'million', 'dollars', '.', 'There', 'whispers', 'sale', 'months', ',', 'years', ',', 'even', '.', 'The', 'new', 'owners', 'reportedly', 'connected', 'Jared', 'Kushner', ',', 'rumored', 'one', 'worst', 'landlords', 'city', ',', 'employing', 'aggressive', 'tactics', 'intimidate', 'evict', 'longtime', 'tenants', '.', 'Almost', 'immediately', ',', 'people', 'lawyered', '.', 'Cameras', 'installed', 'building', '.', 'Eviction', 'notices', 'posted', 'doors', '.', 'And', 'yet', ',', 'still', ',', 'nothing', 'needed', 'fixed', 'fixed', '.', 'People', 'moved', 'out—either', 'kicked', 'bought', 'out—and', 'rents', 'got', 'higher', '.', 'Everyone', 'stressed', 'anxious', ',', 'time', '.', 'The', 'sunsets', 'roof', 'river', 'outside', 'front', 'door', '’', 'change', 'fact', 'big', ',', 'new', 'condo', 'buildings', 'everywhere', '.', 'The', 'neighborhood', 'changed', '.', 'It', '’', 'used', 'be—a', 'typical', 'moan', 'New', 'York', 'City', ',', 'true', ',', 'actual', 'physical', 'landscape', 'changed', '.']\n"
     ]
    }
   ],
   "source": [
    "#removing stopwords\n",
    "\n",
    "filtered_sent=[]\n",
    "for w in tokenized_word:\n",
    "    if w not in stop_words:\n",
    "        filtered_sent.append(w)\n",
    "        \n",
    "print(\"Tokenized Sentence:\",tokenized_word)\n",
    "print(\"Filterd Sentence:\",filtered_sent)"
   ]
  },
  {
   "cell_type": "markdown",
   "id": "f2d93304",
   "metadata": {},
   "source": [
    "#### Stemming\n",
    "\n",
    "Stemming is a process of linguistic normalization, which reduces words to their word root word or chops off the derivational affixes."
   ]
  },
  {
   "cell_type": "code",
   "execution_count": 177,
   "id": "bb9a81b8",
   "metadata": {},
   "outputs": [
    {
     "name": "stdout",
     "output_type": "stream",
     "text": [
      "Filtered Sentence: ['In', 'forties', ',', 'I', 'began', 'spending', 'winters', 'New', 'Orleans', ',', 'city', 'I', 'deeply', 'loved', '.', 'I', 'started', 'see', 'life', 'could', 'look', 'different', '.', 'Easier', ',', 'calmer', '.', 'I', 'want', 'grow', 'old', 'New', 'York', '.', 'I', 'young', ',', 'enough', '.', 'In', '2016', ',', 'I', 'bought', 'small', 'house', 'New', 'Orleans', '.', 'The', 'next', 'winter', ',', 'Williamsburg', 'apartment', 'building', 'sold', 'fifty-six', 'million', 'dollars', '.', 'There', 'whispers', 'sale', 'months', ',', 'years', ',', 'even', '.', 'The', 'new', 'owners', 'reportedly', 'connected', 'Jared', 'Kushner', ',', 'rumored', 'one', 'worst', 'landlords', 'city', ',', 'employing', 'aggressive', 'tactics', 'intimidate', 'evict', 'longtime', 'tenants', '.', 'Almost', 'immediately', ',', 'people', 'lawyered', '.', 'Cameras', 'installed', 'building', '.', 'Eviction', 'notices', 'posted', 'doors', '.', 'And', 'yet', ',', 'still', ',', 'nothing', 'needed', 'fixed', 'fixed', '.', 'People', 'moved', 'out—either', 'kicked', 'bought', 'out—and', 'rents', 'got', 'higher', '.', 'Everyone', 'stressed', 'anxious', ',', 'time', '.', 'The', 'sunsets', 'roof', 'river', 'outside', 'front', 'door', '’', 'change', 'fact', 'big', ',', 'new', 'condo', 'buildings', 'everywhere', '.', 'The', 'neighborhood', 'changed', '.', 'It', '’', 'used', 'be—a', 'typical', 'moan', 'New', 'York', 'City', ',', 'true', ',', 'actual', 'physical', 'landscape', 'changed', '.']\n",
      "Stemmed Sentence: ['in', 'forti', ',', 'i', 'began', 'spend', 'winter', 'new', 'orlean', ',', 'citi', 'i', 'deepli', 'love', '.', 'i', 'start', 'see', 'life', 'could', 'look', 'differ', '.', 'easier', ',', 'calmer', '.', 'i', 'want', 'grow', 'old', 'new', 'york', '.', 'i', 'young', ',', 'enough', '.', 'in', '2016', ',', 'i', 'bought', 'small', 'hous', 'new', 'orlean', '.', 'the', 'next', 'winter', ',', 'williamsburg', 'apart', 'build', 'sold', 'fifty-six', 'million', 'dollar', '.', 'there', 'whisper', 'sale', 'month', ',', 'year', ',', 'even', '.', 'the', 'new', 'owner', 'reportedli', 'connect', 'jare', 'kushner', ',', 'rumor', 'one', 'worst', 'landlord', 'citi', ',', 'employ', 'aggress', 'tactic', 'intimid', 'evict', 'longtim', 'tenant', '.', 'almost', 'immedi', ',', 'peopl', 'lawyer', '.', 'camera', 'instal', 'build', '.', 'evict', 'notic', 'post', 'door', '.', 'and', 'yet', ',', 'still', ',', 'noth', 'need', 'fix', 'fix', '.', 'peopl', 'move', 'out—eith', 'kick', 'bought', 'out—and', 'rent', 'got', 'higher', '.', 'everyon', 'stress', 'anxiou', ',', 'time', '.', 'the', 'sunset', 'roof', 'river', 'outsid', 'front', 'door', '’', 'chang', 'fact', 'big', ',', 'new', 'condo', 'build', 'everywher', '.', 'the', 'neighborhood', 'chang', '.', 'it', '’', 'use', 'be—a', 'typic', 'moan', 'new', 'york', 'citi', ',', 'true', ',', 'actual', 'physic', 'landscap', 'chang', '.']\n"
     ]
    }
   ],
   "source": [
    "# Stemming\n",
    "from nltk.stem import PorterStemmer\n",
    "from nltk.tokenize import sent_tokenize, word_tokenize\n",
    "\n",
    "ps = PorterStemmer()\n",
    "\n",
    "stemmed_words=[]\n",
    "for w in filtered_sent:\n",
    "    stemmed_words.append(ps.stem(w))\n",
    "\n",
    "print(\"Filtered Sentence:\",filtered_sent)\n",
    "print(\"Stemmed Sentence:\",stemmed_words)"
   ]
  },
  {
   "cell_type": "markdown",
   "id": "18049fb9",
   "metadata": {},
   "source": [
    "### Nivell 3. Exercici 1\n",
    "\n",
    "Realitza sentiment analysis al teu conjunt de dades."
   ]
  },
  {
   "cell_type": "code",
   "execution_count": 202,
   "id": "6bb63b76",
   "metadata": {},
   "outputs": [],
   "source": [
    "data = pd.read_csv('/Users/Diana/Downloads/training.1600000.processed.noemoticon.csv', encoding='latin1')"
   ]
  },
  {
   "cell_type": "code",
   "execution_count": 203,
   "id": "3afa7bf0",
   "metadata": {},
   "outputs": [
    {
     "data": {
      "text/html": [
       "<div>\n",
       "<style scoped>\n",
       "    .dataframe tbody tr th:only-of-type {\n",
       "        vertical-align: middle;\n",
       "    }\n",
       "\n",
       "    .dataframe tbody tr th {\n",
       "        vertical-align: top;\n",
       "    }\n",
       "\n",
       "    .dataframe thead th {\n",
       "        text-align: right;\n",
       "    }\n",
       "</style>\n",
       "<table border=\"1\" class=\"dataframe\">\n",
       "  <thead>\n",
       "    <tr style=\"text-align: right;\">\n",
       "      <th></th>\n",
       "      <th>0</th>\n",
       "      <th>1467810369</th>\n",
       "      <th>Mon Apr 06 22:19:45 PDT 2009</th>\n",
       "      <th>NO_QUERY</th>\n",
       "      <th>_TheSpecialOne_</th>\n",
       "      <th>@switchfoot http://twitpic.com/2y1zl - Awww, that's a bummer.  You shoulda got David Carr of Third Day to do it. ;D</th>\n",
       "    </tr>\n",
       "  </thead>\n",
       "  <tbody>\n",
       "    <tr>\n",
       "      <th>0</th>\n",
       "      <td>0</td>\n",
       "      <td>1467810672</td>\n",
       "      <td>Mon Apr 06 22:19:49 PDT 2009</td>\n",
       "      <td>NO_QUERY</td>\n",
       "      <td>scotthamilton</td>\n",
       "      <td>is upset that he can't update his Facebook by ...</td>\n",
       "    </tr>\n",
       "    <tr>\n",
       "      <th>1</th>\n",
       "      <td>0</td>\n",
       "      <td>1467810917</td>\n",
       "      <td>Mon Apr 06 22:19:53 PDT 2009</td>\n",
       "      <td>NO_QUERY</td>\n",
       "      <td>mattycus</td>\n",
       "      <td>@Kenichan I dived many times for the ball. Man...</td>\n",
       "    </tr>\n",
       "    <tr>\n",
       "      <th>2</th>\n",
       "      <td>0</td>\n",
       "      <td>1467811184</td>\n",
       "      <td>Mon Apr 06 22:19:57 PDT 2009</td>\n",
       "      <td>NO_QUERY</td>\n",
       "      <td>ElleCTF</td>\n",
       "      <td>my whole body feels itchy and like its on fire</td>\n",
       "    </tr>\n",
       "    <tr>\n",
       "      <th>3</th>\n",
       "      <td>0</td>\n",
       "      <td>1467811193</td>\n",
       "      <td>Mon Apr 06 22:19:57 PDT 2009</td>\n",
       "      <td>NO_QUERY</td>\n",
       "      <td>Karoli</td>\n",
       "      <td>@nationwideclass no, it's not behaving at all....</td>\n",
       "    </tr>\n",
       "    <tr>\n",
       "      <th>4</th>\n",
       "      <td>0</td>\n",
       "      <td>1467811372</td>\n",
       "      <td>Mon Apr 06 22:20:00 PDT 2009</td>\n",
       "      <td>NO_QUERY</td>\n",
       "      <td>joy_wolf</td>\n",
       "      <td>@Kwesidei not the whole crew</td>\n",
       "    </tr>\n",
       "  </tbody>\n",
       "</table>\n",
       "</div>"
      ],
      "text/plain": [
       "   0  1467810369  Mon Apr 06 22:19:45 PDT 2009  NO_QUERY _TheSpecialOne_  \\\n",
       "0  0  1467810672  Mon Apr 06 22:19:49 PDT 2009  NO_QUERY   scotthamilton   \n",
       "1  0  1467810917  Mon Apr 06 22:19:53 PDT 2009  NO_QUERY        mattycus   \n",
       "2  0  1467811184  Mon Apr 06 22:19:57 PDT 2009  NO_QUERY         ElleCTF   \n",
       "3  0  1467811193  Mon Apr 06 22:19:57 PDT 2009  NO_QUERY          Karoli   \n",
       "4  0  1467811372  Mon Apr 06 22:20:00 PDT 2009  NO_QUERY        joy_wolf   \n",
       "\n",
       "  @switchfoot http://twitpic.com/2y1zl - Awww, that's a bummer.  You shoulda got David Carr of Third Day to do it. ;D  \n",
       "0  is upset that he can't update his Facebook by ...                                                                   \n",
       "1  @Kenichan I dived many times for the ball. Man...                                                                   \n",
       "2    my whole body feels itchy and like its on fire                                                                    \n",
       "3  @nationwideclass no, it's not behaving at all....                                                                   \n",
       "4                      @Kwesidei not the whole crew                                                                    "
      ]
     },
     "execution_count": 203,
     "metadata": {},
     "output_type": "execute_result"
    }
   ],
   "source": [
    "data.head()"
   ]
  },
  {
   "cell_type": "code",
   "execution_count": 209,
   "id": "70b21bdf",
   "metadata": {},
   "outputs": [],
   "source": [
    "#dataset\n",
    "\n",
    "data_columns = [\"sentiment\", \"ids\", \"date\", \"flag\", \"user\", \"text\"]"
   ]
  },
  {
   "cell_type": "code",
   "execution_count": 210,
   "id": "b44aec8f",
   "metadata": {},
   "outputs": [],
   "source": [
    "#text cleaning\n",
    "\n",
    "text_cleaning_RE = \"@\\S+|https?:\\S+|http?:\\S|[^A-Za-z0-9]+\""
   ]
  },
  {
   "cell_type": "code",
   "execution_count": 211,
   "id": "01e49ba4",
   "metadata": {},
   "outputs": [],
   "source": [
    "data = pd.read_csv('/Users/Diana/Downloads/training.1600000.processed.noemoticon.csv', encoding='latin1', names=data_columns)"
   ]
  },
  {
   "cell_type": "code",
   "execution_count": 212,
   "id": "b36cb269",
   "metadata": {},
   "outputs": [
    {
     "data": {
      "text/html": [
       "<div>\n",
       "<style scoped>\n",
       "    .dataframe tbody tr th:only-of-type {\n",
       "        vertical-align: middle;\n",
       "    }\n",
       "\n",
       "    .dataframe tbody tr th {\n",
       "        vertical-align: top;\n",
       "    }\n",
       "\n",
       "    .dataframe thead th {\n",
       "        text-align: right;\n",
       "    }\n",
       "</style>\n",
       "<table border=\"1\" class=\"dataframe\">\n",
       "  <thead>\n",
       "    <tr style=\"text-align: right;\">\n",
       "      <th></th>\n",
       "      <th>sentiment</th>\n",
       "      <th>ids</th>\n",
       "      <th>date</th>\n",
       "      <th>flag</th>\n",
       "      <th>user</th>\n",
       "      <th>text</th>\n",
       "    </tr>\n",
       "  </thead>\n",
       "  <tbody>\n",
       "    <tr>\n",
       "      <th>0</th>\n",
       "      <td>0</td>\n",
       "      <td>1467810369</td>\n",
       "      <td>Mon Apr 06 22:19:45 PDT 2009</td>\n",
       "      <td>NO_QUERY</td>\n",
       "      <td>_TheSpecialOne_</td>\n",
       "      <td>@switchfoot http://twitpic.com/2y1zl - Awww, t...</td>\n",
       "    </tr>\n",
       "    <tr>\n",
       "      <th>1</th>\n",
       "      <td>0</td>\n",
       "      <td>1467810672</td>\n",
       "      <td>Mon Apr 06 22:19:49 PDT 2009</td>\n",
       "      <td>NO_QUERY</td>\n",
       "      <td>scotthamilton</td>\n",
       "      <td>is upset that he can't update his Facebook by ...</td>\n",
       "    </tr>\n",
       "    <tr>\n",
       "      <th>2</th>\n",
       "      <td>0</td>\n",
       "      <td>1467810917</td>\n",
       "      <td>Mon Apr 06 22:19:53 PDT 2009</td>\n",
       "      <td>NO_QUERY</td>\n",
       "      <td>mattycus</td>\n",
       "      <td>@Kenichan I dived many times for the ball. Man...</td>\n",
       "    </tr>\n",
       "    <tr>\n",
       "      <th>3</th>\n",
       "      <td>0</td>\n",
       "      <td>1467811184</td>\n",
       "      <td>Mon Apr 06 22:19:57 PDT 2009</td>\n",
       "      <td>NO_QUERY</td>\n",
       "      <td>ElleCTF</td>\n",
       "      <td>my whole body feels itchy and like its on fire</td>\n",
       "    </tr>\n",
       "    <tr>\n",
       "      <th>4</th>\n",
       "      <td>0</td>\n",
       "      <td>1467811193</td>\n",
       "      <td>Mon Apr 06 22:19:57 PDT 2009</td>\n",
       "      <td>NO_QUERY</td>\n",
       "      <td>Karoli</td>\n",
       "      <td>@nationwideclass no, it's not behaving at all....</td>\n",
       "    </tr>\n",
       "  </tbody>\n",
       "</table>\n",
       "</div>"
      ],
      "text/plain": [
       "   sentiment         ids                          date      flag  \\\n",
       "0          0  1467810369  Mon Apr 06 22:19:45 PDT 2009  NO_QUERY   \n",
       "1          0  1467810672  Mon Apr 06 22:19:49 PDT 2009  NO_QUERY   \n",
       "2          0  1467810917  Mon Apr 06 22:19:53 PDT 2009  NO_QUERY   \n",
       "3          0  1467811184  Mon Apr 06 22:19:57 PDT 2009  NO_QUERY   \n",
       "4          0  1467811193  Mon Apr 06 22:19:57 PDT 2009  NO_QUERY   \n",
       "\n",
       "              user                                               text  \n",
       "0  _TheSpecialOne_  @switchfoot http://twitpic.com/2y1zl - Awww, t...  \n",
       "1    scotthamilton  is upset that he can't update his Facebook by ...  \n",
       "2         mattycus  @Kenichan I dived many times for the ball. Man...  \n",
       "3          ElleCTF    my whole body feels itchy and like its on fire   \n",
       "4           Karoli  @nationwideclass no, it's not behaving at all....  "
      ]
     },
     "execution_count": 212,
     "metadata": {},
     "output_type": "execute_result"
    }
   ],
   "source": [
    "data.head()"
   ]
  },
  {
   "cell_type": "code",
   "execution_count": 213,
   "id": "ce0f4c63",
   "metadata": {},
   "outputs": [
    {
     "data": {
      "text/plain": [
       "Index(['sentiment', 'ids', 'date', 'flag', 'user', 'text'], dtype='object')"
      ]
     },
     "execution_count": 213,
     "metadata": {},
     "output_type": "execute_result"
    }
   ],
   "source": [
    "data.columns"
   ]
  },
  {
   "cell_type": "code",
   "execution_count": 214,
   "id": "b480a130",
   "metadata": {},
   "outputs": [],
   "source": [
    "data = data.drop(['ids','flag','user'], axis=1)"
   ]
  },
  {
   "cell_type": "code",
   "execution_count": 215,
   "id": "54628fc6",
   "metadata": {},
   "outputs": [
    {
     "data": {
      "text/plain": [
       "0    800000\n",
       "4    800000\n",
       "Name: sentiment, dtype: int64"
      ]
     },
     "execution_count": 215,
     "metadata": {},
     "output_type": "execute_result"
    }
   ],
   "source": [
    "data.sentiment.value_counts()"
   ]
  },
  {
   "cell_type": "markdown",
   "id": "52b8e9d4",
   "metadata": {},
   "source": [
    "Where 0 is negative and 4 is positive."
   ]
  },
  {
   "cell_type": "code",
   "execution_count": 217,
   "id": "7ef423d3",
   "metadata": {},
   "outputs": [
    {
     "data": {
      "image/png": "[encoded data removed]",
      "text/plain": [
       "<Figure size 432x288 with 1 Axes>"
      ]
     },
     "metadata": {
      "needs_background": "light"
     },
     "output_type": "display_data"
    }
   ],
   "source": [
    "sentiment_count=data.groupby('sentiment').count()\n",
    "plt.bar(sentiment_count.index.values, sentiment_count['text'])\n",
    "plt.xlabel('Review Sentiments')\n",
    "plt.ylabel('Number of Review')\n",
    "plt.show()"
   ]
  },
  {
   "cell_type": "code",
   "execution_count": 221,
   "id": "f0806bde",
   "metadata": {},
   "outputs": [],
   "source": [
    "#tokenizer to remove unwanted elements from out data like symbols and numbers\n",
    "\n",
    "from sklearn.feature_extraction.text import CountVectorizer\n",
    "from nltk.tokenize import RegexpTokenizer\n",
    "\n",
    "token = RegexpTokenizer(\"@\\S+|https?:\\S+|http?:\\S|[^A-Za-z0-9]+\")\n",
    "\n",
    "#countVectorizer to generate document term matrix\n",
    "\n",
    "cv = CountVectorizer(lowercase=True,stop_words='english',ngram_range = (1,1),tokenizer = token.tokenize)\n",
    "text_counts= cv.fit_transform(data['text'])"
   ]
  },
  {
   "cell_type": "code",
   "execution_count": 224,
   "id": "ba81255b",
   "metadata": {},
   "outputs": [],
   "source": [
    "#train and test\n",
    "X_train, X_test, y_train, y_test = train_test_split(text_counts, data['sentiment'], test_size=0.3, random_state=42)"
   ]
  },
  {
   "cell_type": "code",
   "execution_count": 225,
   "id": "a90cbac3",
   "metadata": {},
   "outputs": [
    {
     "name": "stdout",
     "output_type": "stream",
     "text": [
      "MultinomialNB Accuracy: 0.6128833333333333\n"
     ]
    }
   ],
   "source": [
    "#Model Building and Evaluation\n",
    "\n",
    "from sklearn.naive_bayes import MultinomialNB\n",
    "\n",
    "#Import scikit-learn metrics module for accuracy calculation\n",
    "from sklearn import metrics\n",
    "\n",
    "# Model Generation Using Multinomial Naive Bayes\n",
    "clf = MultinomialNB().fit(X_train, y_train)\n",
    "predicted= clf.predict(X_test)\n",
    "print(\"MultinomialNB Accuracy:\",metrics.accuracy_score(y_test, predicted))"
   ]
  },
  {
   "cell_type": "markdown",
   "id": "55077f3e",
   "metadata": {},
   "source": [
    "We got a classification rate of 61,2% using CountVector, which is not considered as good accuracy. We need to improve this."
   ]
  },
  {
   "cell_type": "code",
   "execution_count": 227,
   "id": "f67bd7d7",
   "metadata": {},
   "outputs": [],
   "source": [
    "#Feature Generation using TF-IDF\n",
    "\n",
    "from sklearn.feature_extraction.text import TfidfVectorizer\n",
    "\n",
    "tf=TfidfVectorizer()\n",
    "text_tf= tf.fit_transform(data['text'])"
   ]
  },
  {
   "cell_type": "code",
   "execution_count": 228,
   "id": "4ff94cf3",
   "metadata": {},
   "outputs": [],
   "source": [
    "#Split train and test set (TF-IDF)\n",
    "\n",
    "X_train, X_test, y_train, y_test = train_test_split(text_tf, data['sentiment'], test_size=0.3, random_state=42)"
   ]
  },
  {
   "cell_type": "code",
   "execution_count": 229,
   "id": "a8767fdf",
   "metadata": {},
   "outputs": [
    {
     "name": "stdout",
     "output_type": "stream",
     "text": [
      "MultinomialNB Accuracy: 0.77279375\n"
     ]
    }
   ],
   "source": [
    "#Model Building and Evaluation (TF-IDF)\n",
    "\n",
    "# Model Generation Using Multinomial Naive Bayes\n",
    "clf = MultinomialNB().fit(X_train, y_train)\n",
    "predicted= clf.predict(X_test)\n",
    "print(\"MultinomialNB Accuracy:\",metrics.accuracy_score(y_test, predicted))"
   ]
  },
  {
   "cell_type": "markdown",
   "id": "35ca32aa",
   "metadata": {},
   "source": [
    "We've improved accuracy to 77.2%."
   ]
  },
  {
   "cell_type": "code",
   "execution_count": null,
   "id": "d3d17ee9",
   "metadata": {},
   "outputs": [],
   "source": []
  }
 ],
 "metadata": {
  "kernelspec": {
   "display_name": "Python 3 (ipykernel)",
   "language": "python",
   "name": "python3"
  },
  "language_info": {
   "codemirror_mode": {
    "name": "ipython",
    "version": 3
   },
   "file_extension": ".py",
   "mimetype": "text/x-python",
   "name": "python",
   "nbconvert_exporter": "python",
   "pygments_lexer": "ipython3",
   "version": "3.8.8"
  }
 },
 "nbformat": 4,
 "nbformat_minor": 5
}
